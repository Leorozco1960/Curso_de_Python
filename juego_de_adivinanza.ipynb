{
  "nbformat": 4,
  "nbformat_minor": 0,
  "metadata": {
    "colab": {
      "provenance": [],
      "include_colab_link": true
    },
    "kernelspec": {
      "name": "python3",
      "display_name": "Python 3"
    },
    "language_info": {
      "name": "python"
    }
  },
  "cells": [
    {
      "cell_type": "markdown",
      "metadata": {
        "id": "view-in-github",
        "colab_type": "text"
      },
      "source": [
        "<a href=\"https://colab.research.google.com/github/Leorozco1960/Curso_de_Python/blob/main/juego_de_adivinanza.ipynb\" target=\"_parent\"><img src=\"https://colab.research.google.com/assets/colab-badge.svg\" alt=\"Open In Colab\"/></a>"
      ]
    },
    {
      "cell_type": "code",
      "execution_count": 4,
      "metadata": {
        "id": "iPAAjJ-q2fJK",
        "outputId": "148e36b2-1c9c-4363-f828-1cadf5820bb0",
        "colab": {
          "base_uri": "https://localhost:8080/"
        }
      },
      "outputs": [
        {
          "output_type": "stream",
          "name": "stdout",
          "text": [
            "=======================================\n",
            "  A C E R T A N D O  U N  N U M E R O \n",
            "=======================================\n",
            "Digita un número: 109\n",
            "El número que digitaste:  109\n",
            "! No acertaste !, el numero es mayor,\n"
          ]
        }
      ],
      "source": [
        "print(\"=======================================\")\n",
        "print(\"  A C E R T A N D O  U N  N U M E R O \")\n",
        "print(\"=======================================\")\n",
        "\n",
        "numero_secreto = 55\n",
        "entrada_str = input(\"Digita un número: \")\n",
        "entrada = int(entrada_str)\n",
        "entrada = int(entrada_str)\n",
        "acierto = entrada == numero_secreto\n",
        "mayor = entrada > numero_secreto\n",
        "menor = entrada < numero_secreto\n",
        "print(\"El número que digitaste: \",entrada)\n",
        "#  INTRODUCIR UN NUMERO\n",
        "if(acierto):\n",
        "  print(\"!correcto!, Acertaste el numero \")\n",
        "else :\n",
        "\n",
        "    # SI USUARIO DIGITÓ UN NUMERO_SECRETO MAYOR , ENTONCES ESPECIFICAR\n",
        "  if (mayor):\n",
        "    print(\"! No acertaste !, el numero es mayor,\")\n",
        "      # usando elif para dar otra opcion\n",
        "  elif(menor):\n",
        "    print(\"! No acertaste !, el numero es menor.\")\n",
        "\n",
        "    print(\"Intentalo Nuevamente o cierra el programa\")"
      ]
    }
  ]
}